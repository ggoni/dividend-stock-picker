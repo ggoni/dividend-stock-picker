{
 "cells": [
  {
   "cell_type": "code",
   "execution_count": 1,
   "metadata": {},
   "outputs": [],
   "source": [
    "import yfinance as yf\n",
    "import pandas as pd\n",
    "import numpy as np\n",
    "import sys\n",
    "import matplotlib.pyplot as plt\n",
    "import seaborn as sns\n",
    "sns.set_style(\"ticks\", {'axes.grid': True})"
   ]
  },
  {
   "cell_type": "code",
   "execution_count": 19,
   "metadata": {},
   "outputs": [],
   "source": [
    "def get_values(ticker):\n",
    "    \n",
    "    df = yf.Ticker(ticker)\n",
    "    df = df.history(period=\"5y\", interval=\"1d\", actions=False)\n",
    "\n",
    "    return df\n",
    "\n",
    "def calc_cum_returns(df,col):\n",
    "    ser = df[col]\n",
    "    return (ser.\n",
    "            sub(ser[0]).\n",
    "            div(ser[0])\n",
    "            )\n",
    "    \n",
    "\n",
    "    "
   ]
  },
  {
   "cell_type": "code",
   "execution_count": 20,
   "metadata": {},
   "outputs": [],
   "source": [
    "ripley = get_values('RIPLEY.SN')"
   ]
  },
  {
   "cell_type": "code",
   "execution_count": 21,
   "metadata": {},
   "outputs": [
    {
     "data": {
      "text/plain": [
       "Date\n",
       "2019-05-17 00:00:00-04:00    0.000000\n",
       "2019-05-20 00:00:00-04:00   -0.007105\n",
       "2019-05-22 00:00:00-04:00    0.006993\n",
       "2019-05-23 00:00:00-04:00   -0.027636\n",
       "2019-05-24 00:00:00-04:00   -0.033026\n",
       "                               ...   \n",
       "2024-05-13 00:00:00-04:00   -0.419516\n",
       "2024-05-14 00:00:00-04:00   -0.414402\n",
       "2024-05-15 00:00:00-04:00   -0.404173\n",
       "2024-05-16 00:00:00-04:00   -0.399058\n",
       "2024-05-17 00:00:00-04:00   -0.399416\n",
       "Name: Close, Length: 1248, dtype: float64"
      ]
     },
     "execution_count": 21,
     "metadata": {},
     "output_type": "execute_result"
    }
   ],
   "source": [
    "ripley.pipe(calc_cum_returns,'Close')"
   ]
  },
  {
   "cell_type": "code",
   "execution_count": 22,
   "metadata": {},
   "outputs": [
    {
     "data": {
      "text/plain": [
       "Date\n",
       "2019-05-17 00:00:00-04:00    0.000000\n",
       "2019-05-20 00:00:00-04:00   -0.014208\n",
       "2019-05-22 00:00:00-04:00   -0.016394\n",
       "2019-05-23 00:00:00-04:00   -0.016394\n",
       "2019-05-24 00:00:00-04:00   -0.031694\n",
       "                               ...   \n",
       "2024-05-13 00:00:00-04:00   -0.388288\n",
       "2024-05-14 00:00:00-04:00   -0.384436\n",
       "2024-05-15 00:00:00-04:00   -0.380358\n",
       "2024-05-16 00:00:00-04:00   -0.379226\n",
       "2024-05-17 00:00:00-04:00   -0.365632\n",
       "Name: Close, Length: 1248, dtype: float64"
      ]
     },
     "execution_count": 22,
     "metadata": {},
     "output_type": "execute_result"
    }
   ],
   "source": [
    "falabella = get_values('FALABELLA.SN')\n",
    "falabella.pipe(calc_cum_returns,'Close')"
   ]
  },
  {
   "cell_type": "code",
   "execution_count": null,
   "metadata": {},
   "outputs": [],
   "source": []
  }
 ],
 "metadata": {
  "kernelspec": {
   "display_name": ".venv",
   "language": "python",
   "name": "python3"
  },
  "language_info": {
   "codemirror_mode": {
    "name": "ipython",
    "version": 3
   },
   "file_extension": ".py",
   "mimetype": "text/x-python",
   "name": "python",
   "nbconvert_exporter": "python",
   "pygments_lexer": "ipython3",
   "version": "3.8.10"
  }
 },
 "nbformat": 4,
 "nbformat_minor": 2
}
